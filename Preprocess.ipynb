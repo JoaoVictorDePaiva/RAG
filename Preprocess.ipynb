{
 "cells": [
  {
   "cell_type": "code",
   "execution_count": null,
   "id": "82afdfae-9e49-4ba3-ad1f-38e1cc953cca",
   "metadata": {},
   "outputs": [],
   "source": [
    "from langchain.document_loaders import WebBaseLoader\n",
    "from langchain.text_splitter import RecursiveCharacterTextSplitter, CharacterTextSplitter"
   ]
  },
  {
   "cell_type": "code",
   "execution_count": null,
   "id": "de3cf690-75d0-4ba2-8f15-29332cbe8d39",
   "metadata": {},
   "outputs": [],
   "source": [
    "urls = [\"https://goias.gov.br/social/perguntas-e-respostas-frequentes-aprendiz-do-futuro/\",\n",
    "        \"https://goias.gov.br/social/perguntas-e-respostas-frequentes-dignidade/\",\n",
    "        \"https://goias.gov.br/social/perguntas-e-respostas-frequentes-maes-de-goias/\",\n",
    "        \"https://goias.gov.br/social/perguntas-e-respostas-frequentes-goias-por-elas/\",\n",
    "        \"https://goias.gov.br/social/perguntas-e-respostas-frequentes-sistema-socioeducativo/\",\n",
    "        \"https://goias.gov.br/social/perguntas-e-respostas-frequentes-auxilios-agua-e-energia-pao-e-leite/\",\n",
    "        \"https://goias.gov.br/social/perguntas-e-respostas-frequentes-carteira-de-identificacao-do-autista2/\",\n",
    "        \"https://goias.gov.br/social/bolsa-familia/\",\n",
    "        \"https://goias.gov.br/social/cadastro-unico-cadunico/\",\n",
    "        \"https://goias.gov.br/social/perguntas-e-respostas-frequentes-passaporte-intermunicipal-da-pessoa-idosa/\",\n",
    "        \"https://goias.gov.br/social/perguntas-e-respostas-frequentes-passe-livre-intermunicipal-da-pessoa-com-deficiencia/\",\n",
    "        \"https://goias.gov.br/social/perguntas-e-respostas-frequentes-centro-de-referencia-estadual-da-igualdade-crei/\"]\n",
    "\n",
    "inicio = \"\"\"Categoria  \n",
    "\n",
    "Perguntas e Respostas Frequentes\"\"\"\n",
    "\n",
    "fim = \"\"\"\n",
    "\n",
    "\n",
    " \n",
    "\n",
    "\n",
    "\n",
    "\n",
    "\n",
    "\n",
    "\n",
    "\n",
    "\n",
    "\n",
    "\n",
    " \n",
    "\n",
    "\n",
    "\n",
    "\n",
    "\n",
    "\n",
    "\n",
    "\n",
    "\n",
    " \n",
    "\n",
    "\n",
    "\n",
    "\n",
    "\n",
    "\n",
    "\n",
    "\n",
    "\n",
    "\n",
    "\n",
    "\n",
    "\n",
    " \n",
    "\n",
    " \n",
    "\n",
    "\n",
    "\n",
    "\n",
    "\n",
    " Governo na palma da mão\"\"\""
   ]
  },
  {
   "cell_type": "code",
   "execution_count": null,
   "id": "2f63fa45-5586-4677-a95b-870e2fca998f",
   "metadata": {},
   "outputs": [],
   "source": [
    "textos_brutos = []\n",
    "textos_conteudo = []\n",
    "textos_process = []\n",
    "\n",
    "for url in urls:\n",
    "    textos = WebBaseLoader(url)\n",
    "    print(textos)\n",
    "    textos_brutos = textos.load()\n",
    "    textos_conteudo.append(textos_brutos[0].page_content)"
   ]
  },
  {
   "cell_type": "code",
   "execution_count": null,
   "id": "848538a8-9231-499f-a663-25b630209a02",
   "metadata": {},
   "outputs": [],
   "source": [
    "tamanho_inicio = len(inicio)\n",
    "tamanho_final = len(fim)\n",
    "\n",
    "for respostas_ind in textos_conteudo:\n",
    "    for j in range(len(respostas_ind) - tamanho_inicio):\n",
    "        if inicio in respostas_ind[j:j + tamanho_inicio]:\n",
    "            começo_frase = j + tamanho_inicio\n",
    "        elif fim in respostas_ind[j:j+tamanho_final]:\n",
    "            textos_process.append(respostas_ind[começo_frase + 6 : j])"
   ]
  },
  {
   "cell_type": "code",
   "execution_count": null,
   "id": "73b5ff99-f8cb-4932-9504-d0b50434236b",
   "metadata": {},
   "outputs": [],
   "source": [
    "print(textos_process[8])"
   ]
  },
  {
   "cell_type": "code",
   "execution_count": null,
   "id": "3de55b6a-4ef2-411c-b154-b332cb18d5b2",
   "metadata": {},
   "outputs": [],
   "source": [
    "textos_split = []\n",
    "question = []\n",
    "cont = 0\n",
    "perguntas = []"
   ]
  },
  {
   "cell_type": "code",
   "execution_count": null,
   "id": "f1e95907-6341-48dc-94d4-14c5e474b098",
   "metadata": {},
   "outputs": [],
   "source": [
    "for texto in textos_process:\n",
    "    for i, caractere in enumerate(texto):\n",
    "        if \"?\" in caractere:\n",
    "            print(f\"i == {i}\")\n",
    "            pergunta = \"\"\n",
    "            cont = 1  # Inicializa cont\n",
    "            contador = 0\n",
    "            while contador != 1:\n",
    "                if texto[i - cont] == \".\" or texto[i - cont] == \";\" or texto[i - cont] == \"\\n\" or (i - cont) == 0 :\n",
    "                    j = i - cont\n",
    "                    contador = 1\n",
    "                    print(f\"j == {j}\")\n",
    "                cont = cont + 1\n",
    "            cont = 0\n",
    "            while j + cont <= i:\n",
    "                pergunta = pergunta + texto[j + cont]\n",
    "                cont = cont + 1\n",
    "            question.append(pergunta)"
   ]
  },
  {
   "cell_type": "code",
   "execution_count": null,
   "id": "9eca9501-2eaf-427e-ba58-4c439c8ad5e4",
   "metadata": {},
   "outputs": [],
   "source": [
    "len(question)"
   ]
  },
  {
   "cell_type": "code",
   "execution_count": null,
   "id": "4f724667-8714-4c08-be65-8a98fccd0edd",
   "metadata": {},
   "outputs": [],
   "source": []
  },
  {
   "cell_type": "code",
   "execution_count": null,
   "id": "5fb7da6d-7fa1-43a6-bfd1-b9019f907038",
   "metadata": {},
   "outputs": [],
   "source": [
    "print(question[0])"
   ]
  },
  {
   "cell_type": "code",
   "execution_count": null,
   "id": "bc026ac0-12b6-4a9d-aee0-ea9d5eb2a23a",
   "metadata": {},
   "outputs": [],
   "source": []
  }
 ],
 "metadata": {
  "kernelspec": {
   "display_name": "Python 3 (ipykernel)",
   "language": "python",
   "name": "python3"
  },
  "language_info": {
   "codemirror_mode": {
    "name": "ipython",
    "version": 3
   },
   "file_extension": ".py",
   "mimetype": "text/x-python",
   "name": "python",
   "nbconvert_exporter": "python",
   "pygments_lexer": "ipython3",
   "version": "3.12.2"
  }
 },
 "nbformat": 4,
 "nbformat_minor": 5
}
