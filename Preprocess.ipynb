{
 "cells": [
  {
   "cell_type": "code",
   "execution_count": 1,
   "id": "82afdfae-9e49-4ba3-ad1f-38e1cc953cca",
   "metadata": {},
   "outputs": [],
   "source": [
    "from langchain.document_loaders import WebBaseLoader\n",
    "from langchain.text_splitter import RecursiveCharacterTextSplitter, CharacterTextSplitter\n",
    "import pandas as pd"
   ]
  },
  {
   "cell_type": "code",
   "execution_count": 2,
   "id": "de3cf690-75d0-4ba2-8f15-29332cbe8d39",
   "metadata": {},
   "outputs": [],
   "source": [
    "urls = [\"https://goias.gov.br/social/perguntas-e-respostas-frequentes-aprendiz-do-futuro/\",\n",
    "        \"https://goias.gov.br/social/perguntas-e-respostas-frequentes-dignidade/\",\n",
    "        \"https://goias.gov.br/social/perguntas-e-respostas-frequentes-maes-de-goias/\",\n",
    "        \"https://goias.gov.br/social/perguntas-e-respostas-frequentes-goias-por-elas/\",\n",
    "        \"https://goias.gov.br/social/perguntas-e-respostas-frequentes-sistema-socioeducativo/\",\n",
    "        \"https://goias.gov.br/social/perguntas-e-respostas-frequentes-auxilios-agua-e-energia-pao-e-leite/\",\n",
    "        \"https://goias.gov.br/social/perguntas-e-respostas-frequentes-carteira-de-identificacao-do-autista2/\",\n",
    "        \"https://goias.gov.br/social/bolsa-familia/\",\n",
    "        \"https://goias.gov.br/social/cadastro-unico-cadunico/\",\n",
    "        \"https://goias.gov.br/social/perguntas-e-respostas-frequentes-passaporte-intermunicipal-da-pessoa-idosa/\",\n",
    "        \"https://goias.gov.br/social/perguntas-e-respostas-frequentes-passe-livre-intermunicipal-da-pessoa-com-deficiencia/\",\n",
    "        \"https://goias.gov.br/social/perguntas-e-respostas-frequentes-centro-de-referencia-estadual-da-igualdade-crei/\"]\n",
    "\n",
    "inicio = \"\"\"Categoria  \n",
    "\n",
    "Perguntas e Respostas Frequentes\"\"\"\n",
    "\n",
    "fim = \"\"\"\n",
    "\n",
    "\n",
    " \n",
    "\n",
    "\n",
    "\n",
    "\n",
    "\n",
    "\n",
    "\n",
    "\n",
    "\n",
    "\n",
    "\n",
    " \n",
    "\n",
    "\n",
    "\n",
    "\n",
    "\n",
    "\n",
    "\n",
    "\n",
    "\n",
    " \n",
    "\n",
    "\n",
    "\n",
    "\n",
    "\n",
    "\n",
    "\n",
    "\n",
    "\n",
    "\n",
    "\n",
    "\n",
    "\n",
    " \n",
    "\n",
    " \n",
    "\n",
    "\n",
    "\n",
    "\n",
    "\n",
    " Governo na palma da mão\"\"\"\n",
    "\n",
    "complemento_texto = \"Fui vítima de\""
   ]
  },
  {
   "cell_type": "code",
   "execution_count": 3,
   "id": "2f63fa45-5586-4677-a95b-870e2fca998f",
   "metadata": {},
   "outputs": [],
   "source": [
    "textos_brutos = []\n",
    "textos_conteudo = []\n",
    "textos_process = []\n",
    "\n",
    "for url in urls:\n",
    "    textos = WebBaseLoader(url)\n",
    "    textos_brutos = textos.load()\n",
    "    textos_conteudo.append(textos_brutos[0].page_content)"
   ]
  },
  {
   "cell_type": "code",
   "execution_count": 4,
   "id": "848538a8-9231-499f-a663-25b630209a02",
   "metadata": {},
   "outputs": [],
   "source": [
    "tamanho_inicio = len(inicio)\n",
    "tamanho_final = len(fim)\n",
    "tamanho_complemento = len(complemento_texto)\n",
    "\n",
    "for respostas_ind in textos_conteudo:\n",
    "    for j in range(len(respostas_ind) - tamanho_inicio):\n",
    "        if inicio in respostas_ind[j:j + tamanho_inicio]:\n",
    "            começo_frase = j + tamanho_inicio\n",
    "        elif fim in respostas_ind[j:j+tamanho_final]:\n",
    "            textos_process.append(respostas_ind[começo_frase + 6 : j])"
   ]
  },
  {
   "cell_type": "code",
   "execution_count": 19,
   "id": "3de55b6a-4ef2-411c-b154-b332cb18d5b2",
   "metadata": {},
   "outputs": [],
   "source": [
    "textos_split = []\n",
    "questions = []\n",
    "perguntas = []\n",
    "answers = []\n",
    "respostas = []"
   ]
  },
  {
   "cell_type": "code",
   "execution_count": 20,
   "id": "f1e95907-6341-48dc-94d4-14c5e474b098",
   "metadata": {},
   "outputs": [],
   "source": [
    "for texto in textos_process:\n",
    "    for i, caractere in enumerate(texto):\n",
    "        aux = i \n",
    "        if \"?\" in caractere:\n",
    "            pergunta = \"\"\n",
    "            interrogacao = i\n",
    "            cont = 1\n",
    "            contador = 0\n",
    "            while contador != 1:\n",
    "                if texto[i - cont] == \".\" or texto[i - cont] == \";\" or texto[i - cont] == \"\\n\" or (i - cont) == 0 :\n",
    "                    j = i - cont\n",
    "                    contador = 1\n",
    "                cont = cont + 1\n",
    "            cont = 0\n",
    "            while j + cont <= i:\n",
    "                pergunta = pergunta + texto[j + cont]\n",
    "                cont = cont + 1\n",
    "            if pergunta == \". O que devo fazer?\":\n",
    "                aux = i\n",
    "                while complemento_texto not in texto[aux : aux + len(complemento_texto)]:\n",
    "                    aux = aux - 1\n",
    "                pergunta = texto[aux : i]\n",
    "            questions.append(pergunta)"
   ]
  },
  {
   "cell_type": "code",
   "execution_count": 21,
   "id": "12c27999-ec11-4f55-a3e6-a908076f2614",
   "metadata": {},
   "outputs": [],
   "source": [
    "for i, question in enumerate(questions):\n",
    "    if question == 'O que é o CREI?':\n",
    "        del questions[i]\n",
    "questions = [caractere.replace(\"\\n\", \"\") for caractere in questions]"
   ]
  },
  {
   "cell_type": "code",
   "execution_count": 22,
   "id": "83476858-239a-4d4c-84a1-78cb5a468542",
   "metadata": {},
   "outputs": [],
   "source": [
    "cont = 0\n",
    "while cont < len(questions):\n",
    "    for texto in textos_process:\n",
    "        for i, caractere in enumerate(texto):\n",
    "            if cont < len(questions) - 1:\n",
    "                if questions[cont] in texto[i: i + len(questions[cont])]:\n",
    "                    inicio_respostas = i + len(questions[cont]) + 1\n",
    "                    if cont + 1 < len(questions):\n",
    "                        j = inicio_respostas\n",
    "                        for j in range (len(texto) - len(questions[cont + 1])):\n",
    "                            if questions[cont + 1] in texto[j: j + len(questions[cont + 1])]:\n",
    "                                answers.append(texto[inicio_respostas : j - 1])\n",
    "                                cont = cont + 1\n",
    "                                break\n",
    "                            if questions[cont + 1] not in texto[j: j + len(questions[cont + 1])] and j + len(questions[cont + 1]) == len(texto) - 1:\n",
    "                                answers.append(texto[i + len(questions[cont]) :])\n",
    "                                cont = cont + 1\n",
    "                                break \n",
    "            elif cont == len(questions) - 1:\n",
    "                answers.append(texto[i:])\n",
    "                cont = cont + 1"
   ]
  },
  {
   "cell_type": "code",
   "execution_count": 23,
   "id": "cf250365-e463-401b-9343-4bef6681288a",
   "metadata": {},
   "outputs": [],
   "source": [
    "answers = [caractere.replace(\"\\n\", \"\") for caractere in answers]\n",
    "answers = [caractere.replace(\"– \", \"\") for caractere in answers]"
   ]
  },
  {
   "cell_type": "code",
   "execution_count": 24,
   "id": "2e548b6b-d844-417d-a834-2b066ce0cc71",
   "metadata": {},
   "outputs": [],
   "source": [
    "all_data =[]"
   ]
  },
  {
   "cell_type": "code",
   "execution_count": 25,
   "id": "589ad2ba-5ed0-49fe-940d-a876792a0a43",
   "metadata": {},
   "outputs": [],
   "source": [
    "for item in range(len(questions)):\n",
    "    question = questions[item]\n",
    "    answer = answers[item]\n",
    "    all_data.append({'question': question, 'answer': answer})"
   ]
  },
  {
   "cell_type": "code",
   "execution_count": 26,
   "id": "161296f8-5ee3-4b7c-b28c-5ec271d5839a",
   "metadata": {},
   "outputs": [],
   "source": [
    "data_df = pd.DataFrame(all_data)\n",
    "data_df.to_csv('Data/rag_doc.csv', index=False)"
   ]
  }
 ],
 "metadata": {
  "kernelspec": {
   "display_name": "Python 3 (ipykernel)",
   "language": "python",
   "name": "python3"
  },
  "language_info": {
   "codemirror_mode": {
    "name": "ipython",
    "version": 3
   },
   "file_extension": ".py",
   "mimetype": "text/x-python",
   "name": "python",
   "nbconvert_exporter": "python",
   "pygments_lexer": "ipython3",
   "version": "3.12.2"
  }
 },
 "nbformat": 4,
 "nbformat_minor": 5
}
