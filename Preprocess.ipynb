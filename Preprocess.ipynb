{
 "cells": [
  {
   "cell_type": "code",
   "execution_count": 146,
   "id": "82afdfae-9e49-4ba3-ad1f-38e1cc953cca",
   "metadata": {},
   "outputs": [],
   "source": [
    "from langchain.document_loaders import WebBaseLoader"
   ]
  },
  {
   "cell_type": "code",
   "execution_count": 147,
   "id": "de3cf690-75d0-4ba2-8f15-29332cbe8d39",
   "metadata": {},
   "outputs": [],
   "source": [
    "urls = [\"https://goias.gov.br/social/perguntas-e-respostas-frequentes-aprendiz-do-futuro/\",\n",
    "        \"https://goias.gov.br/social/perguntas-e-respostas-frequentes-dignidade/\",\n",
    "        \"https://goias.gov.br/social/perguntas-e-respostas-frequentes-maes-de-goias/\",\n",
    "        \"https://goias.gov.br/social/perguntas-e-respostas-frequentes-goias-por-elas/\",\n",
    "        \"https://goias.gov.br/social/perguntas-e-respostas-frequentes-sistema-socioeducativo/\",\n",
    "        \"https://goias.gov.br/social/perguntas-e-respostas-frequentes-auxilios-agua-e-energia-pao-e-leite/\",\n",
    "        \"https://goias.gov.br/social/perguntas-e-respostas-frequentes-carteira-de-identificacao-do-autista2/\",\n",
    "        \"https://goias.gov.br/social/bolsa-familia/\",\n",
    "        \"https://goias.gov.br/social/cadastro-unico-cadunico/\",\n",
    "        \"https://goias.gov.br/social/perguntas-e-respostas-frequentes-passaporte-intermunicipal-da-pessoa-idosa/\",\n",
    "        \"https://goias.gov.br/social/perguntas-e-respostas-frequentes-passe-livre-intermunicipal-da-pessoa-com-deficiencia/\",\n",
    "        \"https://goias.gov.br/social/perguntas-e-respostas-frequentes-centro-de-referencia-estadual-da-igualdade-crei/\"]\n",
    "\n",
    "inicio = \"\"\"Categoria  \n",
    "\n",
    "Perguntas e Respostas Frequentes\"\"\"\n",
    "\n",
    "fim = \"\"\"\n",
    "\n",
    "\n",
    " \n",
    "\n",
    "\n",
    "\n",
    "\n",
    "\n",
    "\n",
    "\n",
    "\n",
    "\n",
    "\n",
    "\n",
    " \n",
    "\n",
    "\n",
    "\n",
    "\n",
    "\n",
    "\n",
    "\n",
    "\n",
    "\n",
    " \n",
    "\n",
    "\n",
    "\n",
    "\n",
    "\n",
    "\n",
    "\n",
    "\n",
    "\n",
    "\n",
    "\n",
    "\n",
    "\n",
    " \n",
    "\n",
    " \n",
    "\n",
    "\n",
    "\n",
    "\n",
    "\n",
    " Governo na palma da mão\"\"\""
   ]
  },
  {
   "cell_type": "code",
   "execution_count": 148,
   "id": "2f63fa45-5586-4677-a95b-870e2fca998f",
   "metadata": {},
   "outputs": [],
   "source": [
    "textos_brutos = []\n",
    "textos_conteudo = []\n",
    "textos_process = []\n",
    "\n",
    "for url in urls:\n",
    "    textos = WebBaseLoader(url)\n",
    "    textos_brutos = textos.load()\n",
    "    textos_conteudo.append(textos_brutos[0].page_content)"
   ]
  },
  {
   "cell_type": "code",
   "execution_count": 149,
   "id": "848538a8-9231-499f-a663-25b630209a02",
   "metadata": {},
   "outputs": [],
   "source": [
    "tamanho_inicio = len(inicio)\n",
    "tamanho_final = len(fim)\n",
    "\n",
    "for respostas_ind in textos_conteudo:\n",
    "    for j in range(len(respostas_ind) - tamanho_inicio):\n",
    "        if inicio in respostas_ind[j:j + tamanho_inicio]:\n",
    "            começo_frase = j + tamanho_inicio\n",
    "        if fim in respostas_ind[j:j+tamanho_final]:\n",
    "            textos_process.append(respostas_ind[começo_frase + 6 : j])\n",
    "            break\n",
    "    else:\n",
    "        print(\"Respostas n encontradas\")"
   ]
  },
  {
   "cell_type": "code",
   "execution_count": 150,
   "id": "73b5ff99-f8cb-4932-9504-d0b50434236b",
   "metadata": {},
   "outputs": [
    {
     "name": "stdout",
     "output_type": "stream",
     "text": [
      "O que é o Programa Aprendiz do Futuro?\n",
      "O Aprendiz do Futuro é uma iniciativa do Governo do Estado de Goiás, por meio da Secretaria de Estado de Desenvolvimento Social (SEDS), que tem como visão oferecer o maior programa de sócio-aprendizagem do Brasil e do mundo com foco em tecnologia, alta performance e impacto social na vida dos jovens em situação de vulnerabilidade.\n",
      "Quem pode participar?\n",
      "– Jovens de 14 até 15 anos e 11 meses, não sendo aplicada a regra, nesse caso, a aprendizes com deficiência. \n",
      "– Existe a prioridade para jovens em vulnerabilidade econômico-social, estudantes da rede pública ou bolsistas 100% de rede particular, jovens com renda familiar de até dois salários mínimos ou ½ Salário – per capita.\n",
      "– O Programa prioriza, ainda, jovens membros de etnia tradicional, sendo indígena, quilombola, cigano ou afrodescendente, que sejam pertencentes a família que possua em sua composição mulher vítima de violência doméstica e sujeitos a medidas socioeducativos ou de proteção.\n",
      "– O Aprendiz do Futuro tem cotas, de 5 a 10%, para pessoas com deficiência – PCD (sem limite de idade).\n",
      "Quais são os benefícios?\n",
      "    • Salário de R$ 619,99\n",
      "    • Vale alimentação de R$ 150\n",
      "    • Vale transporte\n",
      "    • Seguro de vida\n",
      "    • Uniforme e crachá\n",
      "    • Férias\n",
      "    • 13º salário\n",
      "Mais informações: Programa Aprendiz do Futuro.\n",
      "\n"
     ]
    }
   ],
   "source": [
    "print(textos_process[0])"
   ]
  },
  {
   "cell_type": "code",
   "execution_count": null,
   "id": "09f9b9d8-f17f-4318-bbf3-d6bc632dbc66",
   "metadata": {},
   "outputs": [],
   "source": []
  }
 ],
 "metadata": {
  "kernelspec": {
   "display_name": "Python 3 (ipykernel)",
   "language": "python",
   "name": "python3"
  },
  "language_info": {
   "codemirror_mode": {
    "name": "ipython",
    "version": 3
   },
   "file_extension": ".py",
   "mimetype": "text/x-python",
   "name": "python",
   "nbconvert_exporter": "python",
   "pygments_lexer": "ipython3",
   "version": "3.12.2"
  }
 },
 "nbformat": 4,
 "nbformat_minor": 5
}
