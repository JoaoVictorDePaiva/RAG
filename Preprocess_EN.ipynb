{
 "cells": [
  {
   "cell_type": "markdown",
   "id": "18eb1773-7426-4185-859e-feb1526bafcb",
   "metadata": {},
   "source": [
    "## Introduction\n",
    "There are other libraries like requests and bs4 that make web scraping easier by fetching the HTML of web pages. However, in this particular case, the questions and answers in the texts didn't follow a consistent pattern, either in classes or formatting. Therefore, I decided it would be less labor-intensive and more efficient to perform this web scraping using a slightly more \"manual\" method."
   ]
  },
  {
   "cell_type": "markdown",
   "id": "d4da2867-9a12-4679-bbd9-d2507853e0cd",
   "metadata": {
    "jp-MarkdownHeadingCollapsed": true
   },
   "source": [
    "# Library Imports"
   ]
  },
  {
   "cell_type": "code",
   "execution_count": 1,
   "id": "3a405ab8-87c8-44cf-9031-c94807f60484",
   "metadata": {},
   "outputs": [],
   "source": [
    "#import libraries\n",
    "from langchain.document_loaders import WebBaseLoader\n",
    "from langchain.text_splitter import RecursiveCharacterTextSplitter, CharacterTextSplitter\n",
    "import pandas as pd"
   ]
  },
  {
   "cell_type": "markdown",
   "id": "8b36cc2d-b1f1-4b05-ba84-4c0b9bac86c1",
   "metadata": {
    "jp-MarkdownHeadingCollapsed": true
   },
   "source": [
    "# URLs and Key Text Sections"
   ]
  },
  {
   "cell_type": "code",
   "execution_count": 2,
   "id": "1f42875b-df70-44cc-8c10-2a80e8db2834",
   "metadata": {},
   "outputs": [],
   "source": [
    "#list of FAQ URLs from goias.gov\n",
    "urls = [\"https://goias.gov.br/social/perguntas-e-respostas-frequentes-aprendiz-do-futuro/\",\n",
    "        \"https://goias.gov.br/social/perguntas-e-respostas-frequentes-dignidade/\",\n",
    "        \"https://goias.gov.br/social/perguntas-e-respostas-frequentes-maes-de-goias/\",\n",
    "        \"https://goias.gov.br/social/perguntas-e-respostas-frequentes-goias-por-elas/\",\n",
    "        \"https://goias.gov.br/social/perguntas-e-respostas-frequentes-sistema-socioeducativo/\",\n",
    "        \"https://goias.gov.br/social/perguntas-e-respostas-frequentes-auxilios-agua-e-energia-pao-e-leite/\",\n",
    "        \"https://goias.gov.br/social/perguntas-e-respostas-frequentes-carteira-de-identificacao-do-autista2/\",\n",
    "        \"https://goias.gov.br/social/bolsa-familia/\",\n",
    "        \"https://goias.gov.br/social/cadastro-unico-cadunico/\",\n",
    "        \"https://goias.gov.br/social/perguntas-e-respostas-frequentes-passaporte-intermunicipal-da-pessoa-idosa/\",\n",
    "        \"https://goias.gov.br/social/perguntas-e-respostas-frequentes-passe-livre-intermunicipal-da-pessoa-com-deficiencia/\",\n",
    "        \"https://goias.gov.br/social/perguntas-e-respostas-frequentes-centro-de-referencia-estadual-da-igualdade-crei/\"]\n",
    "\n",
    "#Before first question of each URL, the text described in the \"start\" variable will always appear\n",
    "start = \"\"\"Categoria  \n",
    "\n",
    "Perguntas e Respostas Frequentes\"\"\"\n",
    "\n",
    "#At the end of the last answer of each URL, the text described in the \"end\" variable will always appear\n",
    "end = \"\"\"\n",
    "\n",
    "\n",
    " \n",
    "\n",
    "\n",
    "\n",
    "\n",
    "\n",
    "\n",
    "\n",
    "\n",
    "\n",
    "\n",
    "\n",
    " \n",
    "\n",
    "\n",
    "\n",
    "\n",
    "\n",
    "\n",
    "\n",
    "\n",
    "\n",
    " \n",
    "\n",
    "\n",
    "\n",
    "\n",
    "\n",
    "\n",
    "\n",
    "\n",
    "\n",
    "\n",
    "\n",
    "\n",
    "\n",
    " \n",
    "\n",
    " \n",
    "\n",
    "\n",
    "\n",
    "\n",
    "\n",
    " Governo na palma da mão\"\"\"\n",
    "\n",
    "#we need this text complement to capture questions that contain a period in the middle of the sentence, for example:\n",
    "#Fui vítima de racismo. O que devo fazer?\n",
    "text_complement = \"Fui vítima de\"\n"
   ]
  },
  {
   "cell_type": "markdown",
   "id": "8427b5bb-206e-41e5-afb9-5fe14b83f4c2",
   "metadata": {
    "jp-MarkdownHeadingCollapsed": true
   },
   "source": [
    "# Creating Lists and Extracting Texts"
   ]
  },
  {
   "cell_type": "code",
   "execution_count": 45,
   "id": "d97d8152-0f74-439d-8cc4-ef18e872df51",
   "metadata": {},
   "outputs": [],
   "source": [
    "#initialize the lists we will need to extract texts from URLs using langchain\n",
    "raw_texts = []\n",
    "content_texts = []\n",
    "processed_texts = []\n",
    "\n",
    "#extract only the texts from the URLs\n",
    "for url in urls:\n",
    "    texts = WebBaseLoader(url)\n",
    "    raw_texts = texts.load()\n",
    "    content_texts.append(raw_texts[0].page_content)"
   ]
  },
  {
   "cell_type": "markdown",
   "id": "f2cfd0cf-f6d6-497e-af54-b147eee1942a",
   "metadata": {
    "jp-MarkdownHeadingCollapsed": true
   },
   "source": [
    "# Extracting Only the Questions and Answers"
   ]
  },
  {
   "cell_type": "code",
   "execution_count": 46,
   "id": "9f9b28cb-853e-41f6-8f3b-cc74b0c64dac",
   "metadata": {},
   "outputs": [],
   "source": [
    "#determine the length of the text variables defined above for future operations\n",
    "start_length = len(start)\n",
    "end_length = len(end)\n",
    "complement_length = len(text_complement)\n",
    "\n",
    "#Extract only the questions and answers from the texts and assign them to the processed_texts list\n",
    "for individual_answers in content_texts:\n",
    "    for j in range(len(individual_answers) - start_length):\n",
    "        if start in individual_answers[j:j + start_length]:\n",
    "            phrase_start = j + start_length\n",
    "        elif end in individual_answers[j:j + end_length]:\n",
    "            processed_texts.append(individual_answers[phrase_start + 6 : j])"
   ]
  },
  {
   "cell_type": "markdown",
   "id": "00e8a391-a15e-4f0f-a0d9-7a0bc2c7dcb9",
   "metadata": {
    "jp-MarkdownHeadingCollapsed": true
   },
   "source": [
    "# Initializing the Lists"
   ]
  },
  {
   "cell_type": "code",
   "execution_count": 48,
   "id": "f643bbff-027e-4c85-8930-7b342d8b3ba8",
   "metadata": {},
   "outputs": [],
   "source": [
    "#initialize lists for future operations\n",
    "split_texts = []\n",
    "questions = []\n",
    "questions_pt = []\n",
    "answers = []\n",
    "answers_pt = []"
   ]
  },
  {
   "cell_type": "markdown",
   "id": "0e723497-b157-4104-b0ec-398c1f5798ae",
   "metadata": {
    "jp-MarkdownHeadingCollapsed": true
   },
   "source": [
    "# Extracting Questions from the Text"
   ]
  },
  {
   "cell_type": "code",
   "execution_count": 49,
   "id": "c545fee8-bbdd-432e-ba21-0b5c5b0379a6",
   "metadata": {},
   "outputs": [],
   "source": [
    "#Iterating through each text in the processed_texts list\n",
    "for text in processed_texts:\n",
    "    #Iterating over each character and its respective index in the text\n",
    "    for i, character in enumerate(text):\n",
    "        aux = i \n",
    "        #Search for a question mark in the characters of the text\n",
    "        if \"?\" in character:\n",
    "            #Initialize the question variable with an empty string\n",
    "            question = \"\"\n",
    "            #Initialize the count variable\n",
    "            count = 1\n",
    "            #Initialize the counter\n",
    "            counter = 0\n",
    "            #Remain in the loop until counter is not equal to 1\n",
    "            while counter != 1:\n",
    "                #If the text at index i - count contains any of the following characters: \".\" or \";\" or \"\\n\", the variable j will receive i - count and \n",
    "                #counter receives 1 to end the loop. This is necessary because the index i is indicating the character \"?\", i.e., the end\n",
    "                #of a question. So we need to scan the string to find its beginning. Before the beginning of each question, there is the period\n",
    "                #of the previous question's answer (questions[i - 1]). In some isolated cases in the text, the end of the question is determined by ;\n",
    "                #or by \\n, the latter being for the first questions in each URL.\n",
    "                if text[i - count] == \".\" or text[i - count] == \";\" or text[i - count] == \"\\n\" or (i - count) == 0:\n",
    "                    j = i - count\n",
    "                    counter = 1\n",
    "                #If not, count is incremented by 1 to continue searching for the characters \".\", \";\" or \"\\n\"\n",
    "                else:\n",
    "                    count += 1\n",
    "            #Reset the count variable\n",
    "            count = 0\n",
    "            #Remain in the loop while j (which we assigned the value of i - count) + count is less than or equal to i\n",
    "            while j + count <= i:\n",
    "                #The question variable receives question (in the first iteration it is an empty string) + text[j + count], obtaining the entire question\n",
    "                question = question + text[j + count]\n",
    "                #Increment the count variable by 1\n",
    "                count += 1\n",
    "            #If the question is of the special case specified below, where there is a period in the question, it will go through this if\n",
    "            if question == \". O que devo fazer?\":\n",
    "                #Aux receives i\n",
    "                aux = i\n",
    "                #While text_complement, i.e., \"I was a victim of\" is not in the text from aux to aux + text_complement length\n",
    "                #the loop continues\n",
    "                while text_complement not in text[aux : aux + len(text_complement)]:\n",
    "                    #Aux is decremented by 1 to continue the search\n",
    "                    aux -= 1\n",
    "                #In the end, when the text_complement is detected in the specified range, the loop will stop, so we assign\n",
    "                #the question variable to the text from aux to i + 1 (to include the period)\n",
    "                question = text[aux : i + 1]\n",
    "            #Finally, append the question to the questions list to store each question\n",
    "            questions.append(question)"
   ]
  },
  {
   "cell_type": "markdown",
   "id": "7dd60aa8-bb47-48ed-9868-77f2894b4b01",
   "metadata": {
    "jp-MarkdownHeadingCollapsed": true
   },
   "source": [
    "# Cleaning the Data in the Questions List"
   ]
  },
  {
   "cell_type": "code",
   "execution_count": 50,
   "id": "9d420725-0629-4b3c-9f76-7934b1bf017d",
   "metadata": {},
   "outputs": [],
   "source": [
    "#Iterate over each index and each string in the questions list\n",
    "for i, question in enumerate(questions):\n",
    "    #If the question is 'What is the CREI?', the question is deleted. This happens because there are two question marks in the question, causing\n",
    "    #our algorithm above to interpret it as two questions\n",
    "    if question == 'O que é o CREI?':\n",
    "        del questions[i]\n",
    "#Use the replace function to remove the whitespace from the questions and replace it with an empty string\n",
    "questions = [character.replace(\"\\n\", \"\") for character in questions]"
   ]
  },
  {
   "cell_type": "markdown",
   "id": "f640baf9-38fb-40f3-a983-594679441d8f",
   "metadata": {
    "jp-MarkdownHeadingCollapsed": true
   },
   "source": [
    "# Extracting Answers from the Text"
   ]
  },
  {
   "cell_type": "code",
   "execution_count": 51,
   "id": "5315fd8d-25b8-457d-983d-efaf93161225",
   "metadata": {},
   "outputs": [],
   "source": [
    "#Reset the count\n",
    "count = 0\n",
    "#While the count is less than the length of the questions list\n",
    "while count < len(questions):\n",
    "    #Iterate over each text in the processed_texts list\n",
    "    for text in processed_texts:\n",
    "        #Iterate over each character and its respective index in the text\n",
    "        for i, character in enumerate(text):\n",
    "            #While count is less than the length of the questions list - 1\n",
    "            if count < len(questions) - 1:\n",
    "                #If questions[count] (in the first iteration, questions[0]) is present in text[i to i + question length]\n",
    "                if questions[count] in text[i: i + len(questions[count])]:\n",
    "                    #response_start receives the last character of the question, i.e., \"?\", + 1 to get the start of the answers\n",
    "                    response_start = i + len(questions[count]) + 1\n",
    "                    #If count + 1 is less than the length of the questions list\n",
    "                    if count + 1 < len(questions):\n",
    "                        #j receives response_start because the value of response_start cannot be lost\n",
    "                        j = response_start\n",
    "                        #j will iterate through the length of the text - length of the next question\n",
    "                        for j in range(len(text) - len(questions[count + 1])):\n",
    "                            #If the next question is contained from j to j + the length of the next question\n",
    "                            if questions[count + 1] in text[j: j + len(questions[count + 1])]:\n",
    "                                #Then append from response_start to j - 1, this is done to not add the first character\n",
    "                                #of the question, to the answers list to store each answer\n",
    "                                answers.append(text[response_start : j - 1])\n",
    "                                #count receives an increment of 1\n",
    "                                count += 1\n",
    "                                break\n",
    "                            #If the next question is not in the text and the length of j + the length of the next question is == the length of the text\n",
    "                            #This is necessary to store the last answer of the last question of each URL\n",
    "                            if questions[count + 1] not in text[j: j + len(questions[count + 1])] and j + len(questions[count + 1]) == len(text) - 1:\n",
    "                                #Then append from i + the length of the current question to the answers list to store each answer\n",
    "                                answers.append(text[i + len(questions[count]) :])\n",
    "                                count += 1\n",
    "                                break\n",
    "            #If it's the last question\n",
    "            elif count == len(questions) - 1:\n",
    "                #Append from i to the end of the text, as everything else is part of the answer\n",
    "                answers.append(text[i:])\n",
    "                #Increment count by 1 and end the loop\n",
    "                count += 1"
   ]
  },
  {
   "cell_type": "markdown",
   "id": "8f6fd5b1-df38-40c3-a418-1aa8c2f29ded",
   "metadata": {
    "jp-MarkdownHeadingCollapsed": true
   },
   "source": [
    "# Cleaning the Data in the Answers List"
   ]
  },
  {
   "cell_type": "code",
   "execution_count": 52,
   "id": "e11230f6-3ed8-4e01-90e5-5f5079c61ca7",
   "metadata": {},
   "outputs": [],
   "source": [
    "#The replace function is used to replace \"\\n\" and \"– \" with a blank space\n",
    "answers = [character.replace(\"\\n\", \"\") for character in answers]\n",
    "answers = [character.replace(\"– \", \"\") for character in answers]"
   ]
  },
  {
   "cell_type": "markdown",
   "id": "931f116e-a40d-4710-8ee5-c964fde4f8e9",
   "metadata": {
    "jp-MarkdownHeadingCollapsed": true
   },
   "source": [
    "# Storing Questions and Answers in a Single List"
   ]
  },
  {
   "cell_type": "code",
   "execution_count": 53,
   "id": "9c819e1c-6e13-4fef-8651-f4fc92cf16d7",
   "metadata": {},
   "outputs": [],
   "source": [
    "#Create the all_data list to store both questions and answers\n",
    "all_data = []\n",
    "\n",
    "#Iterate over the size of the questions list (both lists have the same size)\n",
    "for item in range(len(questions)):\n",
    "    question = questions[item]\n",
    "    answer = answers[item]\n",
    "    #Append the questions and answers to the all_data list\n",
    "    all_data.append({'question': question, 'answer': answer})"
   ]
  },
  {
   "cell_type": "markdown",
   "id": "1ccf19eb-6e58-4298-8a2a-db7db7387c1b",
   "metadata": {},
   "source": [
    "# Creating a .csv File Containing Questions and Answers"
   ]
  },
  {
   "cell_type": "code",
   "execution_count": 59,
   "id": "1f3cdcea-1621-43ae-bb1b-5d1ab7866d7d",
   "metadata": {},
   "outputs": [],
   "source": [
    "#The all_data list is transformed into a dataframe object\n",
    "data_df = pd.DataFrame(all_data)\n",
    "\n",
    "#A .csv file is created containing the questions and answers\n",
    "data_df.to_csv('rag_doc.csv', index=False)"
   ]
  }
 ],
 "metadata": {
  "kernelspec": {
   "display_name": "Python 3 (ipykernel)",
   "language": "python",
   "name": "python3"
  },
  "language_info": {
   "codemirror_mode": {
    "name": "ipython",
    "version": 3
   },
   "file_extension": ".py",
   "mimetype": "text/x-python",
   "name": "python",
   "nbconvert_exporter": "python",
   "pygments_lexer": "ipython3",
   "version": "3.12.2"
  }
 },
 "nbformat": 4,
 "nbformat_minor": 5
}
