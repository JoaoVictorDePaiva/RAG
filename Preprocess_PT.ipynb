{
 "cells": [
  {
   "cell_type": "markdown",
   "id": "68a7bf58-819a-4501-bc48-b2d6bbda02a9",
   "metadata": {},
   "source": [
    "## Introdução\n",
    "\n",
    "Existem outras bibliotecas que facilitam web scraping, como requests e bs4, retornando o html das páginas web. Porém, nesse caso em específico, as perguntas e respostas contidas nos textos não seguiam um padrão bem determinado, seja em classes ou na sua formatação. Por isso, decidi que seria menos oneroso e mais eficiente realizar esse web scraping por um método um pouco mais \"manual\". \n"
   ]
  },
  {
   "cell_type": "markdown",
   "id": "88c99615-0a95-4082-858f-edbe3b75092e",
   "metadata": {},
   "source": [
    "# Importação das bibliotecas\n"
   ]
  },
  {
   "cell_type": "code",
   "execution_count": 28,
   "id": "82afdfae-9e49-4ba3-ad1f-38e1cc953cca",
   "metadata": {},
   "outputs": [],
   "source": [
    "#importação das bibliotecas necessárias\n",
    "from langchain.document_loaders import WebBaseLoader\n",
    "from langchain.text_splitter import RecursiveCharacterTextSplitter, CharacterTextSplitter\n",
    "import pandas as pd"
   ]
  },
  {
   "cell_type": "markdown",
   "id": "555d2855-dc67-41aa-bf31-7b1aa252e9ef",
   "metadata": {},
   "source": [
    "# Urls e partes importantes dos textos"
   ]
  },
  {
   "cell_type": "code",
   "execution_count": 29,
   "id": "de3cf690-75d0-4ba2-8f15-29332cbe8d39",
   "metadata": {},
   "outputs": [],
   "source": [
    "#lista de urls de perguntas e respostas do goias.gov\n",
    "urls = [\"https://goias.gov.br/social/perguntas-e-respostas-frequentes-aprendiz-do-futuro/\",\n",
    "        \"https://goias.gov.br/social/perguntas-e-respostas-frequentes-dignidade/\",\n",
    "        \"https://goias.gov.br/social/perguntas-e-respostas-frequentes-maes-de-goias/\",\n",
    "        \"https://goias.gov.br/social/perguntas-e-respostas-frequentes-goias-por-elas/\",\n",
    "        \"https://goias.gov.br/social/perguntas-e-respostas-frequentes-sistema-socioeducativo/\",\n",
    "        \"https://goias.gov.br/social/perguntas-e-respostas-frequentes-auxilios-agua-e-energia-pao-e-leite/\",\n",
    "        \"https://goias.gov.br/social/perguntas-e-respostas-frequentes-carteira-de-identificacao-do-autista2/\",\n",
    "        \"https://goias.gov.br/social/bolsa-familia/\",\n",
    "        \"https://goias.gov.br/social/cadastro-unico-cadunico/\",\n",
    "        \"https://goias.gov.br/social/perguntas-e-respostas-frequentes-passaporte-intermunicipal-da-pessoa-idosa/\",\n",
    "        \"https://goias.gov.br/social/perguntas-e-respostas-frequentes-passe-livre-intermunicipal-da-pessoa-com-deficiencia/\",\n",
    "        \"https://goias.gov.br/social/perguntas-e-respostas-frequentes-centro-de-referencia-estadual-da-igualdade-crei/\"]\n",
    "\n",
    "#Antes de cada primeira pergunta de cada url, sempre irá aparecer o texto descrito na variável \"inicio\"\n",
    "inicio = \"\"\"Categoria  \n",
    "\n",
    "Perguntas e Respostas Frequentes\"\"\"\n",
    "\n",
    "#No final da última resposta de cada url, sempre irá aparecer o texto descrito na variável \"fim\"\n",
    "fim = \"\"\"\n",
    "\n",
    "\n",
    " \n",
    "\n",
    "\n",
    "\n",
    "\n",
    "\n",
    "\n",
    "\n",
    "\n",
    "\n",
    "\n",
    "\n",
    " \n",
    "\n",
    "\n",
    "\n",
    "\n",
    "\n",
    "\n",
    "\n",
    "\n",
    "\n",
    " \n",
    "\n",
    "\n",
    "\n",
    "\n",
    "\n",
    "\n",
    "\n",
    "\n",
    "\n",
    "\n",
    "\n",
    "\n",
    "\n",
    " \n",
    "\n",
    " \n",
    "\n",
    "\n",
    "\n",
    "\n",
    "\n",
    " Governo na palma da mão\"\"\"\n",
    "\n",
    "#precisamos desse complemento do texto para conseguir capturar as perguntas que contém um ponto final no meio da frase, como por exemplo: \n",
    "#Fui vítima de racismo. O que devo fazer?\n",
    "complemento_texto = \"Fui vítima de\""
   ]
  },
  {
   "cell_type": "markdown",
   "id": "cd42874b-d5a4-4c78-a56d-d1100d7f7b9d",
   "metadata": {},
   "source": [
    "# Criação das listas e extração dos textos"
   ]
  },
  {
   "cell_type": "code",
   "execution_count": 30,
   "id": "2f63fa45-5586-4677-a95b-870e2fca998f",
   "metadata": {},
   "outputs": [],
   "source": [
    "#inicializar as listas que iremos precisar para extrair os textos das urls utilizando a langchain\n",
    "textos_brutos = []\n",
    "textos_conteudo = []\n",
    "textos_process = []\n",
    "\n",
    "#extrair somente os textos das urls\n",
    "for url in urls:\n",
    "    textos = WebBaseLoader(url)\n",
    "    textos_brutos = textos.load()\n",
    "    textos_conteudo.append(textos_brutos[0].page_content)"
   ]
  },
  {
   "cell_type": "markdown",
   "id": "23503645-e177-423d-b470-08182ec48d5b",
   "metadata": {},
   "source": [
    "# Extração apenas das perguntas e respostas"
   ]
  },
  {
   "cell_type": "code",
   "execution_count": 31,
   "id": "848538a8-9231-499f-a663-25b630209a02",
   "metadata": {},
   "outputs": [],
   "source": [
    "#determinar o tamanho das variáveis de texto definidas acima para realizações de operações futuras\n",
    "tamanho_inicio = len(inicio)\n",
    "tamanho_final = len(fim)\n",
    "tamanho_complemento = len(complemento_texto)\n",
    "\n",
    "#atribuir a lista texto_process apenas as perguntas e respostas do texto\n",
    "for respostas_ind in textos_conteudo:\n",
    "    for j in range(len(respostas_ind) - tamanho_inicio):\n",
    "        if inicio in respostas_ind[j:j + tamanho_inicio]:\n",
    "            começo_frase = j + tamanho_inicio\n",
    "        elif fim in respostas_ind[j:j+tamanho_final]:\n",
    "            textos_process.append(respostas_ind[começo_frase + 6 : j])"
   ]
  },
  {
   "cell_type": "markdown",
   "id": "63e24943-e481-422d-8b7b-3afaa92c921b",
   "metadata": {},
   "source": [
    "# Inicialização das listas"
   ]
  },
  {
   "cell_type": "code",
   "execution_count": 32,
   "id": "3de55b6a-4ef2-411c-b154-b332cb18d5b2",
   "metadata": {},
   "outputs": [],
   "source": [
    "#inicializando listas para operações futuras\n",
    "textos_split = []\n",
    "questions = []\n",
    "perguntas = []\n",
    "answers = []\n",
    "respostas = []"
   ]
  },
  {
   "cell_type": "markdown",
   "id": "c491b13d-ebdb-46d2-a65c-9c63e90b7280",
   "metadata": {},
   "source": [
    "# Extração das perguntas a partir do texto"
   ]
  },
  {
   "cell_type": "code",
   "execution_count": 33,
   "id": "f1e95907-6341-48dc-94d4-14c5e474b098",
   "metadata": {},
   "outputs": [],
   "source": [
    "#Iterando cada texto da lista de textos_process\n",
    "for texto in textos_process:\n",
    "    #Iterando sobre cada caractere e seu respectivo indice do texto\n",
    "    for i, caractere in enumerate(texto):\n",
    "        aux = i \n",
    "        #Procura um ponto de interrogação nos caracteres do texto\n",
    "        if \"?\" in caractere:\n",
    "            #Inicializa a variável pergunta com uma string vazia\n",
    "            pergunta = \"\"\n",
    "            #Inicializa o cont\n",
    "            cont = 1\n",
    "            #Inicializa o contador\n",
    "            contador = 0\n",
    "            #Permanecer no loop até que contador seja diferente de 1\n",
    "            while contador != 1:\n",
    "                #Se o texto de indice i - cont conter algum dos seguintes caracteres: \".\" ou \";\" ou \"\\n\", a variável j irá receber i - cont e \n",
    "                #contador recebe 1 para encerrar o looping. Isso é necessário pois o indice i está indicando o caractere \"?\", ou seja, o final\n",
    "                #de uma pergunta. Então precisamos varrer a string em busca do começo dela. Antes de todo inicio de pergunta, há o ponto final\n",
    "                #da resposta da pergunta anterior (questions[i - 1]). Em alguns casos isolados no texto, o final da pergunta é determinado por ;\n",
    "                #ou por \\n, sendo o último para as primeiras perguntas que cada url\n",
    "                if texto[i - cont] == \".\" or texto[i - cont] == \";\" or texto[i - cont] == \"\\n\" or (i - cont) == 0 :\n",
    "                    j = i - cont\n",
    "                    contador = 1\n",
    "                #Caso não, cont é incrementado em 1 para continuar a procura pelos caracteres \".\", \";\" ou \"\\n\"\n",
    "                else:\n",
    "                    cont = cont + 1\n",
    "            #Variável cont é resetado\n",
    "            cont = 0\n",
    "            #Permanecer no looping enquanto j(que atribuimos o valor de i - cont) + cont for menor ou igual a i\n",
    "            while j + cont <= i:\n",
    "                #A variável pergunta recebe pergunta (na primeira iteração está com string vazia) + o texto[j + cont], obtendo a pergunta inteira\n",
    "                pergunta = pergunta + texto[j + cont]\n",
    "                #Incrementa 1 à variável cont\n",
    "                cont = cont + 1\n",
    "            #Se a pergunta for do caso especial especificado abaixo, onde há . na pergunta, passará por esse if\n",
    "            if pergunta == \". O que devo fazer?\":\n",
    "                #Auxiliar recebe i\n",
    "                aux = i\n",
    "                #Enquanto o complemento_texto, ou seja \"Fui vítima de\" não estiver no texto de auxiliar até auxiliar mais tamanho do complemento_texto\n",
    "                #o looping continua\n",
    "                while complemento_texto not in texto[aux : aux + len(complemento_texto)]:\n",
    "                    #Auxiliar sofre um decremento de 1 para continuar a procura\n",
    "                    aux = aux - 1\n",
    "                #No final, quando o complemento_texto for detectado no intervalo especificado, o looping irá parar, então atribuímos\n",
    "                #a variável pergunta o texto de auxiliar até i + 1 (para incluir o ponto final)\n",
    "                pergunta = texto[aux : i + 1]\n",
    "            #Por fim, é realizado um append de pergunta na lista questions para armazenar cada pergunta\n",
    "            questions.append(pergunta)"
   ]
  },
  {
   "cell_type": "markdown",
   "id": "419cc220-f11f-4d53-a7f0-f058908ab32c",
   "metadata": {},
   "source": [
    "# Limpeza dos dados na lista de perguntas"
   ]
  },
  {
   "cell_type": "code",
   "execution_count": 34,
   "id": "12c27999-ec11-4f55-a3e6-a908076f2614",
   "metadata": {},
   "outputs": [],
   "source": [
    "#Percorremos cada indice e cada string da lista de perguntas\n",
    "for i, question in enumerate(questions):\n",
    "    #Se a pergunta for 'O que é o CREI?', a pergunta é deletada. Isso ocorre pois há dois pontos de interrogação na pergunta, fazendo com que\n",
    "    #nosso algoritmo acima interprete como duas perguntas\n",
    "    if question == 'O que é o CREI?':\n",
    "        del questions[i]\n",
    "#Usamos a função replace para a retirada dos espaços em branco das questões e substituímos por string vazia\n",
    "questions = [caractere.replace(\"\\n\", \"\") for caractere in questions]"
   ]
  },
  {
   "cell_type": "markdown",
   "id": "455cd9b9-9f05-4486-9b04-169fff016e04",
   "metadata": {},
   "source": [
    "# Extração das respostas a partir do texto"
   ]
  },
  {
   "cell_type": "code",
   "execution_count": 35,
   "id": "83476858-239a-4d4c-84a1-78cb5a468542",
   "metadata": {},
   "outputs": [],
   "source": [
    "#Resetando o cont\n",
    "cont = 0\n",
    "#Enquanto o cont for menor do que o tamanho da lista de questões\n",
    "while cont < len(questions):\n",
    "    #Iterando cada texto da lista de textos_process\n",
    "    for texto in textos_process:\n",
    "        #Iterando sobre cada caractere e seu respectivo indice do texto\n",
    "        for i, caractere in enumerate(texto):\n",
    "            #Enquanto cont for menor que o tamanho da lista de questões - 1\n",
    "            if cont < len(questions) - 1:\n",
    "                #Se o questions[cont] (na primeira iteração, questions [0]) está presente o texto[i até i + tamanho da questão]\n",
    "                if questions[cont] in texto[i: i + len(questions[cont])]:\n",
    "                    #Inicio_respostas recebe o último caractere da pergunta, ou seja \"?\", + 1 para receber o inicio das respostas\n",
    "                    inicio_respostas = i + len(questions[cont]) + 1\n",
    "                    #Se cont + 1 for menor que o tamanho da lista de questões\n",
    "                    if cont + 1 < len(questions):\n",
    "                        #j recebe inicio_respostas pois o valor de inicio_respostas não pode ser perdido\n",
    "                        j = inicio_respostas\n",
    "                        #j irá iterar pelo tamanho do texto - tamanho da próxima pergunta\n",
    "                        for j in range (len(texto) - len(questions[cont + 1])):\n",
    "                            #Se a próxima pergunta estiver continha de j até j + o tamanho da próxima pergunta\n",
    "                            if questions[cont + 1] in texto[j: j + len(questions[cont + 1])]:\n",
    "                                #Então é realizado um append de inicio_respostas até j - 1, isso é feito para não adicionar o primeiro caractere\n",
    "                                #da pergunta, na lista answers para armazenar cada resposta\n",
    "                                answers.append(texto[inicio_respostas : j - 1])\n",
    "                                #cont recebe incremento de 1\n",
    "                                cont = cont + 1\n",
    "                                break\n",
    "                            #Se a próxima questão não está no texto e o tamanho de j + o tamanho da próxima questão for == ao tamanho do texto\n",
    "                            #Isso é necessário para conseguir armazenar a última resposta da última pergunta de cada url\n",
    "                            if questions[cont + 1] not in texto[j: j + len(questions[cont + 1])] and j + len(questions[cont + 1]) == len(texto) - 1:\n",
    "                                 #Então é realizado um append de i + o tamanho da questão atual na lista answers para armazenar cada resposta\n",
    "                                answers.append(texto[i + len(questions[cont]) :])\n",
    "                                cont = cont + 1\n",
    "                                break\n",
    "            #Se for a última pergunta\n",
    "            elif cont == len(questions) - 1:\n",
    "                #É realizado um append de i até o final do texto, pois todo o restante faz parte da resposta\n",
    "                answers.append(texto[i:])\n",
    "                #Cont é incrimentado em 1 em o looping é encerrado\n",
    "                cont = cont + 1"
   ]
  },
  {
   "cell_type": "markdown",
   "id": "a4c96e09-c29e-4b6e-aba9-01429b5a3408",
   "metadata": {},
   "source": [
    "# Limpeza dos dados na lista de respostas"
   ]
  },
  {
   "cell_type": "code",
   "execution_count": 36,
   "id": "cf250365-e463-401b-9343-4bef6681288a",
   "metadata": {},
   "outputs": [],
   "source": [
    "#A função replace é utilizada para trocar o \"\\n\" e o \"_ \" por espaço em branco \n",
    "answers = [caractere.replace(\"\\n\", \"\") for caractere in answers]\n",
    "answers = [caractere.replace(\"– \", \"\") for caractere in answers]"
   ]
  },
  {
   "cell_type": "markdown",
   "id": "8abb8ded-7a52-4a13-b357-3f520d837380",
   "metadata": {},
   "source": [
    "# Armazenando as perguntas e respostas em apenas uma lista"
   ]
  },
  {
   "cell_type": "code",
   "execution_count": 38,
   "id": "589ad2ba-5ed0-49fe-940d-a876792a0a43",
   "metadata": {},
   "outputs": [],
   "source": [
    "#É criada a lista de all_data para armazenar tanto as perguntas como as respostas\n",
    "all_data =[]\n",
    "#Item iterrando no tamanho da lista questions (ambas as listas tem o mesmo tamanho)\n",
    "for item in range(len(questions)):\n",
    "    question = questions[item]\n",
    "    answer = answers[item]\n",
    "    #É realizado um append das perguntas e respostas para a lista all_data\n",
    "    all_data.append({'question': question, 'answer': answer})"
   ]
  },
  {
   "cell_type": "markdown",
   "id": "27137c79-b60b-422e-bbac-1fcc37cf47bd",
   "metadata": {},
   "source": [
    "# Criando um arquivo .csv contendo as perguntas e respostas"
   ]
  },
  {
   "cell_type": "code",
   "execution_count": 39,
   "id": "161296f8-5ee3-4b7c-b28c-5ec271d5839a",
   "metadata": {},
   "outputs": [],
   "source": [
    "#A lista all_data é transformada em um objeto dataframe\n",
    "data_df = pd.DataFrame(all_data)\n",
    "#É criado um arquivo .csv contendo as perguntas e as respostas no diretório /Data\n",
    "data_df.to_csv('Data/rag_doc.csv', index=False)"
   ]
  }
 ],
 "metadata": {
  "kernelspec": {
   "display_name": "Python 3 (ipykernel)",
   "language": "python",
   "name": "python3"
  },
  "language_info": {
   "codemirror_mode": {
    "name": "ipython",
    "version": 3
   },
   "file_extension": ".py",
   "mimetype": "text/x-python",
   "name": "python",
   "nbconvert_exporter": "python",
   "pygments_lexer": "ipython3",
   "version": "3.12.2"
  }
 },
 "nbformat": 4,
 "nbformat_minor": 5
}
